{
 "metadata": {
  "name": "",
  "signature": "sha256:cb17786a324ccc4066b6446428b8d06831376bd8ca1f416866ee0d68af35f208"
 },
 "nbformat": 3,
 "nbformat_minor": 0,
 "worksheets": [
  {
   "cells": [
    {
     "cell_type": "markdown",
     "metadata": {},
     "source": [
      "Follow the lecture [Introduction to Deep Learning with Python](https://www.youtube.com/watch?v=S75EdAcXHKk)"
     ]
    },
    {
     "cell_type": "code",
     "collapsed": false,
     "input": [
      "from IPython.display import YouTubeVideo\n",
      "YouTubeVideo('S75EdAcXHKk')"
     ],
     "language": "python",
     "metadata": {},
     "outputs": [
      {
       "html": [
        "\n",
        "        <iframe\n",
        "            width=\"400\"\n",
        "            height=300\"\n",
        "            src=\"https://www.youtube.com/embed/S75EdAcXHKk\"\n",
        "            frameborder=\"0\"\n",
        "            allowfullscreen\n",
        "        ></iframe>\n",
        "        "
       ],
       "metadata": {},
       "output_type": "pyout",
       "prompt_number": 1,
       "text": [
        "<IPython.lib.display.YouTubeVideo at 0x109e76fd0>"
       ]
      }
     ],
     "prompt_number": 1
    },
    {
     "cell_type": "markdown",
     "metadata": {},
     "source": [
      "after performing the set described below you can walk through the notebooks:\n",
      "    \n",
      "* [KNN](./KNN.ipynb)\n",
      "* [Mulitply two numbers with Theano](./0_multiply.ipynb)\n",
      "* [Linear regression](./1_linear_regression.ipynb)\n",
      "* [Logistic Regression](./2_logistic_regression.ipynb)\n",
      "* [Neural Network](./3_net.ipynb)\n",
      "* [Modern Neural Network](./4_modern_net.ipynb)\n",
      "* [Convolution Neural Network](./5_convolutional_net.ipynb)"
     ]
    },
    {
     "cell_type": "heading",
     "level": 1,
     "metadata": {},
     "source": [
      "Get Data"
     ]
    },
    {
     "cell_type": "markdown",
     "metadata": {},
     "source": [
      "download mnist files from http://yann.lecun.com/exdb/mnist/ and open the zipped file into `~/Downloads/lisa/data/mnist/`"
     ]
    },
    {
     "cell_type": "code",
     "collapsed": false,
     "input": [
      "%%bash\n",
      "mkdir -p ~/Downloads/lisa/data/mnist/\n",
      "cd ~/Downloads/lisa/data/mnist/\n",
      "#wget http://yann.lecun.com/exdb/mnist/train-images-idx3-ubyte.gz\n",
      "#wget http://yann.lecun.com/exdb/mnist/train-labels-idx1-ubyte.gz\n",
      "#wget http://yann.lecun.com/exdb/mnist/t10k-images-idx3-ubyte.gz\n",
      "#wget http://yann.lecun.com/exdb/mnist/t10k-labels-idx1-ubyte.gz\n",
      "gunzip *.gz"
     ],
     "language": "python",
     "metadata": {},
     "outputs": [],
     "prompt_number": 4
    },
    {
     "cell_type": "code",
     "collapsed": false,
     "input": [
      "!ls ~/Downloads/lisa/data/mnist/"
     ],
     "language": "python",
     "metadata": {},
     "outputs": [
      {
       "output_type": "stream",
       "stream": "stdout",
       "text": [
        "t10k-images-idx3-ubyte\ttrain-images-idx3-ubyte\r\n",
        "t10k-labels-idx1-ubyte\ttrain-labels-idx1-ubyte\r\n"
       ]
      }
     ],
     "prompt_number": 5
    },
    {
     "cell_type": "code",
     "collapsed": false,
     "input": [
      "import os,sys,inspect\n",
      "currentdir = os.path.dirname(os.path.abspath(inspect.getfile(inspect.currentframe())))\n",
      "parentdir = os.path.dirname(currentdir)\n",
      "sys.path.insert(0,parentdir) \n",
      "import load\n",
      "\n",
      "load.datasets_dir = os.path.expanduser(\"~/Downloads/lisa/data/\")\n",
      "\n",
      "trX, teX, trY, teY = load.mnist(onehot=True)"
     ],
     "language": "python",
     "metadata": {},
     "outputs": [],
     "prompt_number": 6
    },
    {
     "cell_type": "markdown",
     "metadata": {},
     "source": [
      "we have 60K images of handwritten numbers for training and 10K for testing. Each image has 28*28 gray-level pixels"
     ]
    },
    {
     "cell_type": "code",
     "collapsed": false,
     "input": [
      "trX.shape, teX.shape, trY.shape, teY.shape"
     ],
     "language": "python",
     "metadata": {},
     "outputs": [
      {
       "metadata": {},
       "output_type": "pyout",
       "prompt_number": 7,
       "text": [
        "((60000, 784), (10000, 784), (60000, 10), (10000, 10))"
       ]
      }
     ],
     "prompt_number": 7
    },
    {
     "cell_type": "code",
     "collapsed": false,
     "input": [
      "import numpy as np\n",
      "np.min(trX),np.max(trX),np.min(teX),np.max(teX)"
     ],
     "language": "python",
     "metadata": {},
     "outputs": [
      {
       "metadata": {},
       "output_type": "pyout",
       "prompt_number": 9,
       "text": [
        "(0.0, 1.0, 0.0, 1.0)"
       ]
      }
     ],
     "prompt_number": 9
    },
    {
     "cell_type": "heading",
     "level": 1,
     "metadata": {},
     "source": [
      "Installation"
     ]
    },
    {
     "cell_type": "markdown",
     "metadata": {},
     "source": [
      "Install Theano. On OS X it is highly recommended to [install using anaconda](http://deeplearning.net/software/theano/install.html#anaconda-1-5). If you also [installed MKL](http://continuum.io/blog/mkl-optimizations), which is also highly recommended, you will need to export the following environment variables before running `ipython notebook`\n",
      "\n",
      "    export DYLD_FALLBACK_LIBRARY_PATH=$HOME/anaconda/lib:$DYLD_FALLBACK_LIBRARY_PATH"
     ]
    },
    {
     "cell_type": "markdown",
     "metadata": {},
     "source": [
      "On AWS I started from the following community image \"Ubuntu-14.04-Caffe-GPU - ami-588d0030\""
     ]
    },
    {
     "cell_type": "markdown",
     "metadata": {},
     "source": [
      "install Theano"
     ]
    },
    {
     "cell_type": "code",
     "collapsed": false,
     "input": [
      "!sudo pip install theano"
     ],
     "language": "python",
     "metadata": {},
     "outputs": [
      {
       "output_type": "stream",
       "stream": "stdout",
       "text": [
        "Downloading/unpacking theano\r\n"
       ]
      },
      {
       "output_type": "stream",
       "stream": "stdout",
       "text": [
        "  Downloading Theano-0.6.0.tar.gz (1.8MB): \r",
        "  Downloading Theano-0.6.0.tar.gz (1.8MB):   0%  4.1kB\r",
        "  Downloading Theano-0.6.0.tar.gz (1.8MB):   0%  8.2kB\r",
        "  Downloading Theano-0.6.0.tar.gz (1.8MB):   0%  12kB \r",
        "  Downloading Theano-0.6.0.tar.gz (1.8MB):   0%  16kB\r",
        "  Downloading Theano-0.6.0.tar.gz (1.8MB):   1%  20kB\r",
        "  Downloading Theano-0.6.0.tar.gz (1.8MB):   1%  24kB\r",
        "  Downloading Theano-0.6.0.tar.gz (1.8MB):   1%  28kB\r",
        "  Downloading Theano-0.6.0.tar.gz (1.8MB):   1%  32kB\r",
        "  Downloading Theano-0.6.0.tar.gz (1.8MB):   2%  36kB\r",
        "  Downloading Theano-0.6.0.tar.gz (1.8MB):   2%  40kB\r",
        "  Downloading Theano-0.6.0.tar.gz (1.8MB):   2%  45kB\r",
        "  Downloading Theano-0.6.0.tar.gz (1.8MB):   2%  49kB\r",
        "  Downloading Theano-0.6.0.tar.gz (1.8MB):   3%  53kB\r",
        "  Downloading Theano-0.6.0.tar.gz (1.8MB):   3%  57kB\r",
        "  Downloading Theano-0.6.0.tar.gz (1.8MB):   3%  61kB\r",
        "  Downloading Theano-0.6.0.tar.gz (1.8MB):   3%  65kB\r",
        "  Downloading Theano-0.6.0.tar.gz (1.8MB):   3%  69kB\r",
        "  Downloading Theano-0.6.0.tar.gz (1.8MB):   4%  73kB\r",
        "  Downloading Theano-0.6.0.tar.gz (1.8MB):   4%  77kB\r",
        "  Downloading Theano-0.6.0.tar.gz (1.8MB):   4%  81kB\r",
        "  Downloading Theano-0.6.0.tar.gz (1.8MB):   4%  86kB\r",
        "  Downloading Theano-0.6.0.tar.gz (1.8MB):   5%  90kB\r",
        "  Downloading Theano-0.6.0.tar.gz (1.8MB):   5%  94kB\r",
        "  Downloading Theano-0.6.0.tar.gz (1.8MB):   5%  98kB\r",
        "  Downloading Theano-0.6.0.tar.gz (1.8MB):   5%  102kB\r",
        "  Downloading Theano-0.6.0.tar.gz (1.8MB):   6%  106kB\r",
        "  Downloading Theano-0.6.0.tar.gz (1.8MB):   6%  110kB\r",
        "  Downloading Theano-0.6.0.tar.gz (1.8MB):   6%  114kB\r",
        "  Downloading Theano-0.6.0.tar.gz (1.8MB):   6%  118kB\r",
        "  Downloading Theano-0.6.0.tar.gz (1.8MB):   6%  122kB\r",
        "  Downloading Theano-0.6.0.tar.gz (1.8MB):   7%  126kB\r",
        "  Downloading Theano-0.6.0.tar.gz (1.8MB):   7%  131kB\r",
        "  Downloading Theano-0.6.0.tar.gz (1.8MB):   7%  135kB\r",
        "  Downloading Theano-0.6.0.tar.gz (1.8MB):   7%  139kB\r",
        "  Downloading Theano-0.6.0.tar.gz (1.8MB):   8%  143kB\r",
        "  Downloading Theano-0.6.0.tar.gz (1.8MB):   8%  147kB\r",
        "  Downloading Theano-0.6.0.tar.gz (1.8MB):   8%  151kB\r",
        "  Downloading Theano-0.6.0.tar.gz (1.8MB):   8%  155kB\r",
        "  Downloading Theano-0.6.0.tar.gz (1.8MB):   9%  159kB"
       ]
      },
      {
       "output_type": "stream",
       "stream": "stdout",
       "text": [
        "\r",
        "  Downloading Theano-0.6.0.tar.gz (1.8MB):   9%  163kB\r",
        "  Downloading Theano-0.6.0.tar.gz (1.8MB):   9%  167kB\r",
        "  Downloading Theano-0.6.0.tar.gz (1.8MB):   9%  172kB\r",
        "  Downloading Theano-0.6.0.tar.gz (1.8MB):   9%  176kB\r",
        "  Downloading Theano-0.6.0.tar.gz (1.8MB):  10%  180kB\r",
        "  Downloading Theano-0.6.0.tar.gz (1.8MB):  10%  184kB\r",
        "  Downloading Theano-0.6.0.tar.gz (1.8MB):  10%  188kB\r",
        "  Downloading Theano-0.6.0.tar.gz (1.8MB):  10%  192kB\r",
        "  Downloading Theano-0.6.0.tar.gz (1.8MB):  11%  196kB\r",
        "  Downloading Theano-0.6.0.tar.gz (1.8MB):  11%  200kB\r",
        "  Downloading Theano-0.6.0.tar.gz (1.8MB):  11%  204kB\r",
        "  Downloading Theano-0.6.0.tar.gz (1.8MB):  11%  208kB\r",
        "  Downloading Theano-0.6.0.tar.gz (1.8MB):  12%  212kB\r",
        "  Downloading Theano-0.6.0.tar.gz (1.8MB):  12%  217kB\r",
        "  Downloading Theano-0.6.0.tar.gz (1.8MB):  12%  221kB\r",
        "  Downloading Theano-0.6.0.tar.gz (1.8MB):  12%  225kB\r",
        "  Downloading Theano-0.6.0.tar.gz (1.8MB):  13%  229kB\r",
        "  Downloading Theano-0.6.0.tar.gz (1.8MB):  13%  233kB\r",
        "  Downloading Theano-0.6.0.tar.gz (1.8MB):  13%  237kB\r",
        "  Downloading Theano-0.6.0.tar.gz (1.8MB):  13%  241kB\r",
        "  Downloading Theano-0.6.0.tar.gz (1.8MB):  13%  245kB\r",
        "  Downloading Theano-0.6.0.tar.gz (1.8MB):  14%  249kB\r",
        "  Downloading Theano-0.6.0.tar.gz (1.8MB):  14%  253kB\r",
        "  Downloading Theano-0.6.0.tar.gz (1.8MB):  14%  258kB\r",
        "  Downloading Theano-0.6.0.tar.gz (1.8MB):  14%  262kB\r",
        "  Downloading Theano-0.6.0.tar.gz (1.8MB):  15%  266kB\r",
        "  Downloading Theano-0.6.0.tar.gz (1.8MB):  15%  270kB\r",
        "  Downloading Theano-0.6.0.tar.gz (1.8MB):  15%  274kB\r",
        "  Downloading Theano-0.6.0.tar.gz (1.8MB):  15%  278kB\r",
        "  Downloading Theano-0.6.0.tar.gz (1.8MB):  16%  282kB\r",
        "  Downloading Theano-0.6.0.tar.gz (1.8MB):  16%  286kB\r",
        "  Downloading Theano-0.6.0.tar.gz (1.8MB):  16%  290kB\r",
        "  Downloading Theano-0.6.0.tar.gz (1.8MB):  16%  294kB\r",
        "  Downloading Theano-0.6.0.tar.gz (1.8MB):  16%  299kB\r",
        "  Downloading Theano-0.6.0.tar.gz (1.8MB):  17%  303kB\r",
        "  Downloading Theano-0.6.0.tar.gz (1.8MB):  17%  307kB\r",
        "  Downloading Theano-0.6.0.tar.gz (1.8MB):  17%  311kB\r",
        "  Downloading Theano-0.6.0.tar.gz (1.8MB):  17%  315kB\r",
        "  Downloading Theano-0.6.0.tar.gz (1.8MB):  18%  319kB\r",
        "  Downloading Theano-0.6.0.tar.gz (1.8MB):  18%  323kB\r",
        "  Downloading Theano-0.6.0.tar.gz (1.8MB):  18%  327kB\r",
        "  Downloading Theano-0.6.0.tar.gz (1.8MB):  18%  331kB\r",
        "  Downloading Theano-0.6.0.tar.gz (1.8MB):  19%  335kB\r",
        "  Downloading Theano-0.6.0.tar.gz (1.8MB):  19%  339kB\r",
        "  Downloading Theano-0.6.0.tar.gz (1.8MB):  19%  344kB\r",
        "  Downloading Theano-0.6.0.tar.gz (1.8MB):  19%  348kB\r",
        "  Downloading Theano-0.6.0.tar.gz (1.8MB):  19%  352kB\r",
        "  Downloading Theano-0.6.0.tar.gz (1.8MB):  20%  356kB\r",
        "  Downloading Theano-0.6.0.tar.gz (1.8MB):  20%  360kB\r",
        "  Downloading Theano-0.6.0.tar.gz (1.8MB):  20%  364kB\r",
        "  Downloading Theano-0.6.0.tar.gz (1.8MB):  20%  368kB\r",
        "  Downloading Theano-0.6.0.tar.gz (1.8MB):  21%  372kB\r",
        "  Downloading Theano-0.6.0.tar.gz (1.8MB):  21%  376kB\r",
        "  Downloading Theano-0.6.0.tar.gz (1.8MB):  21%  380kB\r",
        "  Downloading Theano-0.6.0.tar.gz (1.8MB):  21%  385kB\r",
        "  Downloading Theano-0.6.0.tar.gz (1.8MB):  22%  389kB\r",
        "  Downloading Theano-0.6.0.tar.gz (1.8MB):  22%  393kB\r",
        "  Downloading Theano-0.6.0.tar.gz (1.8MB):  22%  397kB\r",
        "  Downloading Theano-0.6.0.tar.gz (1.8MB):  22%  401kB\r",
        "  Downloading Theano-0.6.0.tar.gz (1.8MB):  22%  405kB\r",
        "  Downloading Theano-0.6.0.tar.gz (1.8MB):  23%  409kB\r",
        "  Downloading Theano-0.6.0.tar.gz (1.8MB):  23%  413kB\r",
        "  Downloading Theano-0.6.0.tar.gz (1.8MB):  23%  417kB\r",
        "  Downloading Theano-0.6.0.tar.gz (1.8MB):  23%  421kB\r",
        "  Downloading Theano-0.6.0.tar.gz (1.8MB):  24%  425kB\r",
        "  Downloading Theano-0.6.0.tar.gz (1.8MB):  24%  430kB\r",
        "  Downloading Theano-0.6.0.tar.gz (1.8MB):  24%  434kB\r",
        "  Downloading Theano-0.6.0.tar.gz (1.8MB):  24%  438kB\r",
        "  Downloading Theano-0.6.0.tar.gz (1.8MB):  25%  442kB\r",
        "  Downloading Theano-0.6.0.tar.gz (1.8MB):  25%  446kB\r",
        "  Downloading Theano-0.6.0.tar.gz (1.8MB):  25%  450kB\r",
        "  Downloading Theano-0.6.0.tar.gz (1.8MB):  25%  454kB\r",
        "  Downloading Theano-0.6.0.tar.gz (1.8MB):  26%  458kB\r",
        "  Downloading Theano-0.6.0.tar.gz (1.8MB):  26%  462kB\r",
        "  Downloading Theano-0.6.0.tar.gz (1.8MB):  26%  466kB\r",
        "  Downloading Theano-0.6.0.tar.gz (1.8MB):  26%  471kB\r",
        "  Downloading Theano-0.6.0.tar.gz (1.8MB):  26%  475kB\r",
        "  Downloading Theano-0.6.0.tar.gz (1.8MB):  27%  479kB\r",
        "  Downloading Theano-0.6.0.tar.gz (1.8MB):  27%  483kB\r",
        "  Downloading Theano-0.6.0.tar.gz (1.8MB):  27%  487kB\r",
        "  Downloading Theano-0.6.0.tar.gz (1.8MB):  27%  491kB\r",
        "  Downloading Theano-0.6.0.tar.gz (1.8MB):  28%  495kB\r",
        "  Downloading Theano-0.6.0.tar.gz (1.8MB):  28%  499kB\r",
        "  Downloading Theano-0.6.0.tar.gz (1.8MB):  28%  503kB\r",
        "  Downloading Theano-0.6.0.tar.gz (1.8MB):  28%  507kB\r",
        "  Downloading Theano-0.6.0.tar.gz (1.8MB):  29%  512kB\r",
        "  Downloading Theano-0.6.0.tar.gz (1.8MB):  29%  516kB\r",
        "  Downloading Theano-0.6.0.tar.gz (1.8MB):  29%  520kB\r",
        "  Downloading Theano-0.6.0.tar.gz (1.8MB):  29%  524kB\r",
        "  Downloading Theano-0.6.0.tar.gz (1.8MB):  29%  528kB\r",
        "  Downloading Theano-0.6.0.tar.gz (1.8MB):  30%  532kB\r",
        "  Downloading Theano-0.6.0.tar.gz (1.8MB):  30%  536kB\r",
        "  Downloading Theano-0.6.0.tar.gz (1.8MB):  30%  540kB\r",
        "  Downloading Theano-0.6.0.tar.gz (1.8MB):  30%  544kB\r",
        "  Downloading Theano-0.6.0.tar.gz (1.8MB):  31%  548kB\r",
        "  Downloading Theano-0.6.0.tar.gz (1.8MB):  31%  552kB\r",
        "  Downloading Theano-0.6.0.tar.gz (1.8MB):  31%  557kB\r",
        "  Downloading Theano-0.6.0.tar.gz (1.8MB):  31%  561kB\r",
        "  Downloading Theano-0.6.0.tar.gz (1.8MB):  32%  565kB\r",
        "  Downloading Theano-0.6.0.tar.gz (1.8MB):  32%  569kB\r",
        "  Downloading Theano-0.6.0.tar.gz (1.8MB):  32%  573kB\r",
        "  Downloading Theano-0.6.0.tar.gz (1.8MB):  32%  577kB\r",
        "  Downloading Theano-0.6.0.tar.gz (1.8MB):  32%  581kB\r",
        "  Downloading Theano-0.6.0.tar.gz (1.8MB):  33%  585kB\r",
        "  Downloading Theano-0.6.0.tar.gz (1.8MB):  33%  589kB\r",
        "  Downloading Theano-0.6.0.tar.gz (1.8MB):  33%  593kB\r",
        "  Downloading Theano-0.6.0.tar.gz (1.8MB):  33%  598kB\r",
        "  Downloading Theano-0.6.0.tar.gz (1.8MB):  34%  602kB\r",
        "  Downloading Theano-0.6.0.tar.gz (1.8MB):  34%  606kB\r",
        "  Downloading Theano-0.6.0.tar.gz (1.8MB):  34%  610kB\r",
        "  Downloading Theano-0.6.0.tar.gz (1.8MB):  34%  614kB\r",
        "  Downloading Theano-0.6.0.tar.gz (1.8MB):  35%  618kB\r",
        "  Downloading Theano-0.6.0.tar.gz (1.8MB):  35%  622kB\r",
        "  Downloading Theano-0.6.0.tar.gz (1.8MB):  35%  626kB\r",
        "  Downloading Theano-0.6.0.tar.gz (1.8MB):  35%  630kB\r",
        "  Downloading Theano-0.6.0.tar.gz (1.8MB):  35%  634kB\r",
        "  Downloading Theano-0.6.0.tar.gz (1.8MB):  36%  638kB\r",
        "  Downloading Theano-0.6.0.tar.gz (1.8MB):  36%  643kB\r",
        "  Downloading Theano-0.6.0.tar.gz (1.8MB):  36%  647kB\r",
        "  Downloading Theano-0.6.0.tar.gz (1.8MB):  36%  651kB\r",
        "  Downloading Theano-0.6.0.tar.gz (1.8MB):  37%  655kB\r",
        "  Downloading Theano-0.6.0.tar.gz (1.8MB):  37%  659kB\r",
        "  Downloading Theano-0.6.0.tar.gz (1.8MB):  37%  663kB\r",
        "  Downloading Theano-0.6.0.tar.gz (1.8MB):  37%  667kB\r",
        "  Downloading Theano-0.6.0.tar.gz (1.8MB):  38%  671kB\r",
        "  Downloading Theano-0.6.0.tar.gz (1.8MB):  38%  675kB\r",
        "  Downloading Theano-0.6.0.tar.gz (1.8MB):  38%  679kB\r",
        "  Downloading Theano-0.6.0.tar.gz (1.8MB):  38%  684kB\r",
        "  Downloading Theano-0.6.0.tar.gz (1.8MB):  39%  688kB\r",
        "  Downloading Theano-0.6.0.tar.gz (1.8MB):  39%  692kB\r",
        "  Downloading Theano-0.6.0.tar.gz (1.8MB):  39%  696kB\r",
        "  Downloading Theano-0.6.0.tar.gz (1.8MB):  39%  700kB\r",
        "  Downloading Theano-0.6.0.tar.gz (1.8MB):  39%  704kB\r",
        "  Downloading Theano-0.6.0.tar.gz (1.8MB):  40%  708kB\r",
        "  Downloading Theano-0.6.0.tar.gz (1.8MB):  40%  712kB\r",
        "  Downloading Theano-0.6.0.tar.gz (1.8MB):  40%  716kB\r",
        "  Downloading Theano-0.6.0.tar.gz (1.8MB):  40%  720kB\r",
        "  Downloading Theano-0.6.0.tar.gz (1.8MB):  41%  724kB\r",
        "  Downloading Theano-0.6.0.tar.gz (1.8MB):  41%  729kB\r",
        "  Downloading Theano-0.6.0.tar.gz (1.8MB):  41%  733kB\r",
        "  Downloading Theano-0.6.0.tar.gz (1.8MB):  41%  737kB\r",
        "  Downloading Theano-0.6.0.tar.gz (1.8MB):  42%  741kB\r",
        "  Downloading Theano-0.6.0.tar.gz (1.8MB):  42%  745kB\r",
        "  Downloading Theano-0.6.0.tar.gz (1.8MB):  42%  749kB\r",
        "  Downloading Theano-0.6.0.tar.gz (1.8MB):  42%  753kB\r",
        "  Downloading Theano-0.6.0.tar.gz (1.8MB):  42%  757kB\r",
        "  Downloading Theano-0.6.0.tar.gz (1.8MB):  43%  761kB\r",
        "  Downloading Theano-0.6.0.tar.gz (1.8MB):  43%  765kB\r",
        "  Downloading Theano-0.6.0.tar.gz (1.8MB):  43%  770kB\r",
        "  Downloading Theano-0.6.0.tar.gz (1.8MB):  43%  774kB\r",
        "  Downloading Theano-0.6.0.tar.gz (1.8MB):  44%  778kB\r",
        "  Downloading Theano-0.6.0.tar.gz (1.8MB):  44%  782kB\r",
        "  Downloading Theano-0.6.0.tar.gz (1.8MB):  44%  786kB\r",
        "  Downloading Theano-0.6.0.tar.gz (1.8MB):  44%  790kB\r",
        "  Downloading Theano-0.6.0.tar.gz (1.8MB):  45%  794kB\r",
        "  Downloading Theano-0.6.0.tar.gz (1.8MB):  45%  798kB\r",
        "  Downloading Theano-0.6.0.tar.gz (1.8MB):  45%  802kB\r",
        "  Downloading Theano-0.6.0.tar.gz (1.8MB):  45%  806kB\r",
        "  Downloading Theano-0.6.0.tar.gz (1.8MB):  45%  811kB\r",
        "  Downloading Theano-0.6.0.tar.gz (1.8MB):  46%  815kB\r",
        "  Downloading Theano-0.6.0.tar.gz (1.8MB):  46%  819kB\r",
        "  Downloading Theano-0.6.0.tar.gz (1.8MB):  46%  823kB\r",
        "  Downloading Theano-0.6.0.tar.gz (1.8MB):  46%  827kB\r",
        "  Downloading Theano-0.6.0.tar.gz (1.8MB):  47%  831kB\r",
        "  Downloading Theano-0.6.0.tar.gz (1.8MB):  47%  835kB\r",
        "  Downloading Theano-0.6.0.tar.gz (1.8MB):  47%  839kB\r",
        "  Downloading Theano-0.6.0.tar.gz (1.8MB):  47%  843kB\r",
        "  Downloading Theano-0.6.0.tar.gz (1.8MB):  48%  847kB\r",
        "  Downloading Theano-0.6.0.tar.gz (1.8MB):  48%  851kB\r",
        "  Downloading Theano-0.6.0.tar.gz (1.8MB):  48%  856kB\r",
        "  Downloading Theano-0.6.0.tar.gz (1.8MB):  48%  860kB\r",
        "  Downloading Theano-0.6.0.tar.gz (1.8MB):  49%  864kB\r",
        "  Downloading Theano-0.6.0.tar.gz (1.8MB):  49%  868kB\r",
        "  Downloading Theano-0.6.0.tar.gz (1.8MB):  49%  872kB\r",
        "  Downloading Theano-0.6.0.tar.gz (1.8MB):  49%  876kB\r",
        "  Downloading Theano-0.6.0.tar.gz (1.8MB):  49%  880kB\r",
        "  Downloading Theano-0.6.0.tar.gz (1.8MB):  50%  884kB\r",
        "  Downloading Theano-0.6.0.tar.gz (1.8MB):  50%  888kB\r",
        "  Downloading Theano-0.6.0.tar.gz (1.8MB):  50%  892kB\r",
        "  Downloading Theano-0.6.0.tar.gz (1.8MB):  50%  897kB\r",
        "  Downloading Theano-0.6.0.tar.gz (1.8MB):  51%  901kB\r",
        "  Downloading Theano-0.6.0.tar.gz (1.8MB):  51%  905kB\r",
        "  Downloading Theano-0.6.0.tar.gz (1.8MB):  51%  909kB\r",
        "  Downloading Theano-0.6.0.tar.gz (1.8MB):  51%  913kB\r",
        "  Downloading Theano-0.6.0.tar.gz (1.8MB):  52%  917kB\r",
        "  Downloading Theano-0.6.0.tar.gz (1.8MB):  52%  921kB\r",
        "  Downloading Theano-0.6.0.tar.gz (1.8MB):  52%  925kB\r",
        "  Downloading Theano-0.6.0.tar.gz (1.8MB):  52%  929kB\r",
        "  Downloading Theano-0.6.0.tar.gz (1.8MB):  52%  933kB\r",
        "  Downloading Theano-0.6.0.tar.gz (1.8MB):  53%  937kB\r",
        "  Downloading Theano-0.6.0.tar.gz (1.8MB):  53%  942kB\r",
        "  Downloading Theano-0.6.0.tar.gz (1.8MB):  53%  946kB\r",
        "  Downloading Theano-0.6.0.tar.gz (1.8MB):  53%  950kB\r",
        "  Downloading Theano-0.6.0.tar.gz (1.8MB):  54%  954kB\r",
        "  Downloading Theano-0.6.0.tar.gz (1.8MB):  54%  958kB\r",
        "  Downloading Theano-0.6.0.tar.gz (1.8MB):  54%  962kB\r",
        "  Downloading Theano-0.6.0.tar.gz (1.8MB):  54%  966kB\r",
        "  Downloading Theano-0.6.0.tar.gz (1.8MB):  55%  970kB\r",
        "  Downloading Theano-0.6.0.tar.gz (1.8MB):  55%  974kB\r",
        "  Downloading Theano-0.6.0.tar.gz (1.8MB):  55%  978kB\r",
        "  Downloading Theano-0.6.0.tar.gz (1.8MB):  55%  983kB\r",
        "  Downloading Theano-0.6.0.tar.gz (1.8MB):  55%  987kB\r",
        "  Downloading Theano-0.6.0.tar.gz (1.8MB):  56%  991kB\r",
        "  Downloading Theano-0.6.0.tar.gz (1.8MB):  56%  995kB\r",
        "  Downloading Theano-0.6.0.tar.gz (1.8MB):  56%  999kB\r",
        "  Downloading Theano-0.6.0.tar.gz (1.8MB):  56%  1.0MB\r",
        "  Downloading Theano-0.6.0.tar.gz (1.8MB):  57%  1.0MB\r",
        "  Downloading Theano-0.6.0.tar.gz (1.8MB):  57%  1.0MB\r",
        "  Downloading Theano-0.6.0.tar.gz (1.8MB):  57%  1.0MB\r",
        "  Downloading Theano-0.6.0.tar.gz (1.8MB):  57%  1.0MB\r",
        "  Downloading Theano-0.6.0.tar.gz (1.8MB):  58%  1.0MB\r",
        "  Downloading Theano-0.6.0.tar.gz (1.8MB):  58%  1.0MB\r",
        "  Downloading Theano-0.6.0.tar.gz (1.8MB):  58%  1.0MB\r",
        "  Downloading Theano-0.6.0.tar.gz (1.8MB):  58%  1.0MB\r",
        "  Downloading Theano-0.6.0.tar.gz (1.8MB):  58%  1.0MB\r",
        "  Downloading Theano-0.6.0.tar.gz (1.8MB):  59%  1.0MB\r",
        "  Downloading Theano-0.6.0.tar.gz (1.8MB):  59%  1.0MB\r",
        "  Downloading Theano-0.6.0.tar.gz (1.8MB):  59%  1.1MB\r",
        "  Downloading Theano-0.6.0.tar.gz (1.8MB):  59%  1.1MB\r",
        "  Downloading Theano-0.6.0.tar.gz (1.8MB):  60%  1.1MB\r",
        "  Downloading Theano-0.6.0.tar.gz (1.8MB):  60%  1.1MB\r",
        "  Downloading Theano-0.6.0.tar.gz (1.8MB):  60%  1.1MB\r",
        "  Downloading Theano-0.6.0.tar.gz (1.8MB):  60%  1.1MB\r",
        "  Downloading Theano-0.6.0.tar.gz (1.8MB):  61%  1.1MB\r",
        "  Downloading Theano-0.6.0.tar.gz (1.8MB):  61%  1.1MB\r",
        "  Downloading Theano-0.6.0.tar.gz (1.8MB):  61%  1.1MB\r",
        "  Downloading Theano-0.6.0.tar.gz (1.8MB):  61%  1.1MB\r",
        "  Downloading Theano-0.6.0.tar.gz (1.8MB):  62%  1.1MB\r",
        "  Downloading Theano-0.6.0.tar.gz (1.8MB):  62%  1.1MB\r",
        "  Downloading Theano-0.6.0.tar.gz (1.8MB):  62%  1.1MB\r",
        "  Downloading Theano-0.6.0.tar.gz (1.8MB):  62%  1.1MB\r",
        "  Downloading Theano-0.6.0.tar.gz (1.8MB):  62%  1.1MB\r",
        "  Downloading Theano-0.6.0.tar.gz (1.8MB):  63%  1.1MB\r",
        "  Downloading Theano-0.6.0.tar.gz (1.8MB):  63%  1.1MB\r",
        "  Downloading Theano-0.6.0.tar.gz (1.8MB):  63%  1.1MB\r",
        "  Downloading Theano-0.6.0.tar.gz (1.8MB):  63%  1.1MB\r",
        "  Downloading Theano-0.6.0.tar.gz (1.8MB):  64%  1.1MB\r",
        "  Downloading Theano-0.6.0.tar.gz (1.8MB):  64%  1.1MB\r",
        "  Downloading Theano-0.6.0.tar.gz (1.8MB):  64%  1.1MB\r",
        "  Downloading Theano-0.6.0.tar.gz (1.8MB):  64%  1.1MB\r",
        "  Downloading Theano-0.6.0.tar.gz (1.8MB):  65%  1.1MB\r",
        "  Downloading Theano-0.6.0.tar.gz (1.8MB):  65%  1.2MB\r",
        "  Downloading Theano-0.6.0.tar.gz (1.8MB):  65%  1.2MB\r",
        "  Downloading Theano-0.6.0.tar.gz (1.8MB):  65%  1.2MB\r",
        "  Downloading Theano-0.6.0.tar.gz (1.8MB):  65%  1.2MB\r",
        "  Downloading Theano-0.6.0.tar.gz (1.8MB):  66%  1.2MB\r",
        "  Downloading Theano-0.6.0.tar.gz (1.8MB):  66%  1.2MB\r",
        "  Downloading Theano-0.6.0.tar.gz (1.8MB):  66%  1.2MB\r",
        "  Downloading Theano-0.6.0.tar.gz (1.8MB):  66%  1.2MB\r",
        "  Downloading Theano-0.6.0.tar.gz (1.8MB):  67%  1.2MB\r",
        "  Downloading Theano-0.6.0.tar.gz (1.8MB):  67%  1.2MB\r",
        "  Downloading Theano-0.6.0.tar.gz (1.8MB):  67%  1.2MB\r",
        "  Downloading Theano-0.6.0.tar.gz (1.8MB):  67%  1.2MB\r",
        "  Downloading Theano-0.6.0.tar.gz (1.8MB):  68%  1.2MB\r",
        "  Downloading Theano-0.6.0.tar.gz (1.8MB):  68%  1.2MB\r",
        "  Downloading Theano-0.6.0.tar.gz (1.8MB):  68%  1.2MB\r",
        "  Downloading Theano-0.6.0.tar.gz (1.8MB):  68%  1.2MB\r",
        "  Downloading Theano-0.6.0.tar.gz (1.8MB):  68%  1.2MB\r",
        "  Downloading Theano-0.6.0.tar.gz (1.8MB):  69%  1.2MB\r",
        "  Downloading Theano-0.6.0.tar.gz (1.8MB):  69%  1.2MB\r",
        "  Downloading Theano-0.6.0.tar.gz (1.8MB):  69%  1.2MB\r",
        "  Downloading Theano-0.6.0.tar.gz (1.8MB):  69%  1.2MB\r",
        "  Downloading Theano-0.6.0.tar.gz (1.8MB):  70%  1.2MB\r",
        "  Downloading Theano-0.6.0.tar.gz (1.8MB):  70%  1.2MB\r",
        "  Downloading Theano-0.6.0.tar.gz (1.8MB):  70%  1.2MB\r",
        "  Downloading Theano-0.6.0.tar.gz (1.8MB):  70%  1.2MB\r",
        "  Downloading Theano-0.6.0.tar.gz (1.8MB):  71%  1.3MB\r",
        "  Downloading Theano-0.6.0.tar.gz (1.8MB):  71%  1.3MB\r",
        "  Downloading Theano-0.6.0.tar.gz (1.8MB):  71%  1.3MB\r",
        "  Downloading Theano-0.6.0.tar.gz (1.8MB):  71%  1.3MB\r",
        "  Downloading Theano-0.6.0.tar.gz (1.8MB):  71%  1.3MB\r",
        "  Downloading Theano-0.6.0.tar.gz (1.8MB):  72%  1.3MB\r",
        "  Downloading Theano-0.6.0.tar.gz (1.8MB):  72%  1.3MB\r",
        "  Downloading Theano-0.6.0.tar.gz (1.8MB):  72%  1.3MB\r",
        "  Downloading Theano-0.6.0.tar.gz (1.8MB):  72%  1.3MB\r",
        "  Downloading Theano-0.6.0.tar.gz (1.8MB):  73%  1.3MB\r",
        "  Downloading Theano-0.6.0.tar.gz (1.8MB):  73%  1.3MB\r",
        "  Downloading Theano-0.6.0.tar.gz (1.8MB):  73%  1.3MB\r",
        "  Downloading Theano-0.6.0.tar.gz (1.8MB):  73%  1.3MB\r",
        "  Downloading Theano-0.6.0.tar.gz (1.8MB):  74%  1.3MB\r",
        "  Downloading Theano-0.6.0.tar.gz (1.8MB):  74%  1.3MB\r",
        "  Downloading Theano-0.6.0.tar.gz (1.8MB):  74%  1.3MB\r",
        "  Downloading Theano-0.6.0.tar.gz (1.8MB):  74%  1.3MB\r",
        "  Downloading Theano-0.6.0.tar.gz (1.8MB):  75%  1.3MB\r",
        "  Downloading Theano-0.6.0.tar.gz (1.8MB):  75%  1.3MB\r",
        "  Downloading Theano-0.6.0.tar.gz (1.8MB):  75%  1.3MB\r",
        "  Downloading Theano-0.6.0.tar.gz (1.8MB):  75%  1.3MB\r",
        "  Downloading Theano-0.6.0.tar.gz (1.8MB):  75%  1.3MB\r",
        "  Downloading Theano-0.6.0.tar.gz (1.8MB):  76%  1.3MB\r",
        "  Downloading Theano-0.6.0.tar.gz (1.8MB):  76%  1.3MB\r",
        "  Downloading Theano-0.6.0.tar.gz (1.8MB):  76%  1.4MB\r",
        "  Downloading Theano-0.6.0.tar.gz (1.8MB):  76%  1.4MB\r",
        "  Downloading Theano-0.6.0.tar.gz (1.8MB):  77%  1.4MB\r",
        "  Downloading Theano-0.6.0.tar.gz (1.8MB):  77%  1.4MB\r",
        "  Downloading Theano-0.6.0.tar.gz (1.8MB):  77%  1.4MB\r",
        "  Downloading Theano-0.6.0.tar.gz (1.8MB):  77%  1.4MB\r",
        "  Downloading Theano-0.6.0.tar.gz (1.8MB):  78%  1.4MB\r",
        "  Downloading Theano-0.6.0.tar.gz (1.8MB):  78%  1.4MB\r",
        "  Downloading Theano-0.6.0.tar.gz (1.8MB):  78%  1.4MB\r",
        "  Downloading Theano-0.6.0.tar.gz (1.8MB):  78%  1.4MB\r",
        "  Downloading Theano-0.6.0.tar.gz (1.8MB):  78%  1.4MB\r",
        "  Downloading Theano-0.6.0.tar.gz (1.8MB):  79%  1.4MB\r",
        "  Downloading Theano-0.6.0.tar.gz (1.8MB):  79%  1.4MB\r",
        "  Downloading Theano-0.6.0.tar.gz (1.8MB):  79%  1.4MB\r",
        "  Downloading Theano-0.6.0.tar.gz (1.8MB):  79%  1.4MB\r",
        "  Downloading Theano-0.6.0.tar.gz (1.8MB):  80%  1.4MB\r",
        "  Downloading Theano-0.6.0.tar.gz (1.8MB):  80%  1.4MB\r",
        "  Downloading Theano-0.6.0.tar.gz (1.8MB):  80%  1.4MB\r",
        "  Downloading Theano-0.6.0.tar.gz (1.8MB):  80%  1.4MB\r",
        "  Downloading Theano-0.6.0.tar.gz (1.8MB):  81%  1.4MB\r",
        "  Downloading Theano-0.6.0.tar.gz (1.8MB):  81%  1.4MB\r",
        "  Downloading Theano-0.6.0.tar.gz (1.8MB):  81%  1.4MB\r",
        "  Downloading Theano-0.6.0.tar.gz (1.8MB):  81%  1.4MB\r",
        "  Downloading Theano-0.6.0.tar.gz (1.8MB):  81%  1.4MB\r",
        "  Downloading Theano-0.6.0.tar.gz (1.8MB):  82%  1.4MB\r",
        "  Downloading Theano-0.6.0.tar.gz (1.8MB):  82%  1.5MB\r",
        "  Downloading Theano-0.6.0.tar.gz (1.8MB):  82%  1.5MB\r",
        "  Downloading Theano-0.6.0.tar.gz (1.8MB):  82%  1.5MB\r",
        "  Downloading Theano-0.6.0.tar.gz (1.8MB):  83%  1.5MB\r",
        "  Downloading Theano-0.6.0.tar.gz (1.8MB):  83%  1.5MB\r",
        "  Downloading Theano-0.6.0.tar.gz (1.8MB):  83%  1.5MB\r",
        "  Downloading Theano-0.6.0.tar.gz (1.8MB):  83%  1.5MB\r",
        "  Downloading Theano-0.6.0.tar.gz (1.8MB):  84%  1.5MB\r",
        "  Downloading Theano-0.6.0.tar.gz (1.8MB):  84%  1.5MB\r",
        "  Downloading Theano-0.6.0.tar.gz (1.8MB):  84%  1.5MB\r",
        "  Downloading Theano-0.6.0.tar.gz (1.8MB):  84%  1.5MB\r",
        "  Downloading Theano-0.6.0.tar.gz (1.8MB):  84%  1.5MB\r",
        "  Downloading Theano-0.6.0.tar.gz (1.8MB):  85%  1.5MB\r",
        "  Downloading Theano-0.6.0.tar.gz (1.8MB):  85%  1.5MB\r",
        "  Downloading Theano-0.6.0.tar.gz (1.8MB):  85%  1.5MB\r",
        "  Downloading Theano-0.6.0.tar.gz (1.8MB):  85%  1.5MB\r",
        "  Downloading Theano-0.6.0.tar.gz (1.8MB):  86%  1.5MB\r",
        "  Downloading Theano-0.6.0.tar.gz (1.8MB):  86%  1.5MB\r",
        "  Downloading Theano-0.6.0.tar.gz (1.8MB):  86%  1.5MB\r",
        "  Downloading Theano-0.6.0.tar.gz (1.8MB):  86%  1.5MB\r",
        "  Downloading Theano-0.6.0.tar.gz (1.8MB):  87%  1.5MB\r",
        "  Downloading Theano-0.6.0.tar.gz (1.8MB):  87%  1.5MB\r",
        "  Downloading Theano-0.6.0.tar.gz (1.8MB):  87%  1.5MB\r",
        "  Downloading Theano-0.6.0.tar.gz (1.8MB):  87%  1.5MB\r",
        "  Downloading Theano-0.6.0.tar.gz (1.8MB):  88%  1.6MB\r",
        "  Downloading Theano-0.6.0.tar.gz (1.8MB):  88%  1.6MB\r",
        "  Downloading Theano-0.6.0.tar.gz (1.8MB):  88%  1.6MB\r",
        "  Downloading Theano-0.6.0.tar.gz (1.8MB):  88%  1.6MB\r",
        "  Downloading Theano-0.6.0.tar.gz (1.8MB):  88%  1.6MB\r",
        "  Downloading Theano-0.6.0.tar.gz (1.8MB):  89%  1.6MB\r",
        "  Downloading Theano-0.6.0.tar.gz (1.8MB):  89%  1.6MB\r",
        "  Downloading Theano-0.6.0.tar.gz (1.8MB):  89%  1.6MB\r",
        "  Downloading Theano-0.6.0.tar.gz (1.8MB):  89%  1.6MB\r",
        "  Downloading Theano-0.6.0.tar.gz (1.8MB):  90%  1.6MB\r",
        "  Downloading Theano-0.6.0.tar.gz (1.8MB):  90%  1.6MB\r",
        "  Downloading Theano-0.6.0.tar.gz (1.8MB):  90%  1.6MB\r",
        "  Downloading Theano-0.6.0.tar.gz (1.8MB):  90%  1.6MB\r",
        "  Downloading Theano-0.6.0.tar.gz (1.8MB):  91%  1.6MB\r",
        "  Downloading Theano-0.6.0.tar.gz (1.8MB):  91%  1.6MB\r",
        "  Downloading Theano-0.6.0.tar.gz (1.8MB):  91%  1.6MB\r",
        "  Downloading Theano-0.6.0.tar.gz (1.8MB):  91%  1.6MB\r",
        "  Downloading Theano-0.6.0.tar.gz (1.8MB):  91%  1.6MB\r",
        "  Downloading Theano-0.6.0.tar.gz (1.8MB):  92%  1.6MB\r",
        "  Downloading Theano-0.6.0.tar.gz (1.8MB):  92%  1.6MB\r",
        "  Downloading Theano-0.6.0.tar.gz (1.8MB):  92%  1.6MB\r",
        "  Downloading Theano-0.6.0.tar.gz (1.8MB):  92%  1.6MB\r",
        "  Downloading Theano-0.6.0.tar.gz (1.8MB):  93%  1.6MB\r",
        "  Downloading Theano-0.6.0.tar.gz (1.8MB):  93%  1.6MB\r",
        "  Downloading Theano-0.6.0.tar.gz (1.8MB):  93%  1.7MB\r",
        "  Downloading Theano-0.6.0.tar.gz (1.8MB):  93%  1.7MB\r",
        "  Downloading Theano-0.6.0.tar.gz (1.8MB):  94%  1.7MB\r",
        "  Downloading Theano-0.6.0.tar.gz (1.8MB):  94%  1.7MB\r",
        "  Downloading Theano-0.6.0.tar.gz (1.8MB):  94%  1.7MB\r",
        "  Downloading Theano-0.6.0.tar.gz (1.8MB):  94%  1.7MB\r",
        "  Downloading Theano-0.6.0.tar.gz (1.8MB):  94%  1.7MB\r",
        "  Downloading Theano-0.6.0.tar.gz (1.8MB):  95%  1.7MB\r",
        "  Downloading Theano-0.6.0.tar.gz (1.8MB):  95%  1.7MB\r",
        "  Downloading Theano-0.6.0.tar.gz (1.8MB):  95%  1.7MB\r",
        "  Downloading Theano-0.6.0.tar.gz (1.8MB):  95%  1.7MB\r",
        "  Downloading Theano-0.6.0.tar.gz (1.8MB):  96%  1.7MB\r",
        "  Downloading Theano-0.6.0.tar.gz (1.8MB):  96%  1.7MB\r",
        "  Downloading Theano-0.6.0.tar.gz (1.8MB):  96%  1.7MB\r",
        "  Downloading Theano-0.6.0.tar.gz (1.8MB):  96%  1.7MB\r",
        "  Downloading Theano-0.6.0.tar.gz (1.8MB):  97%  1.7MB\r",
        "  Downloading Theano-0.6.0.tar.gz (1.8MB):  97%  1.7MB\r",
        "  Downloading Theano-0.6.0.tar.gz (1.8MB):  97%  1.7MB\r",
        "  Downloading Theano-0.6.0.tar.gz (1.8MB):  97%  1.7MB\r",
        "  Downloading Theano-0.6.0.tar.gz (1.8MB):  98%  1.7MB\r",
        "  Downloading Theano-0.6.0.tar.gz (1.8MB):  98%  1.7MB\r",
        "  Downloading Theano-0.6.0.tar.gz (1.8MB):  98%  1.7MB\r",
        "  Downloading Theano-0.6.0.tar.gz (1.8MB):  98%  1.7MB\r",
        "  Downloading Theano-0.6.0.tar.gz (1.8MB):  98%  1.7MB\r",
        "  Downloading Theano-0.6.0.tar.gz (1.8MB):  99%  1.7MB\r",
        "  Downloading Theano-0.6.0.tar.gz (1.8MB):  99%  1.8MB\r",
        "  Downloading Theano-0.6.0.tar.gz (1.8MB):  99%  1.8MB\r",
        "  Downloading Theano-0.6.0.tar.gz (1.8MB):  99%  1.8MB\r",
        "  Downloading Theano-0.6.0.tar.gz (1.8MB): 100%  1.8MB\r",
        "  Downloading Theano-0.6.0.tar.gz (1.8MB):            \r",
        "  Downloading Theano-0.6.0.tar.gz (1.8MB): 1.8MB downloaded\r\n"
       ]
      },
      {
       "output_type": "stream",
       "stream": "stdout",
       "text": [
        "  Running setup.py (path:/tmp/pip_build_root/theano/setup.py) egg_info for package theano\r\n"
       ]
      },
      {
       "output_type": "stream",
       "stream": "stdout",
       "text": [
        "    \r\n",
        "    warning: manifest_maker: MANIFEST.in, line 7: 'recursive-include' expects <dir> <pattern1> <pattern2> ...\r\n",
        "    \r\n"
       ]
      },
      {
       "output_type": "stream",
       "stream": "stdout",
       "text": [
        "Requirement already satisfied (use --upgrade to upgrade): numpy>=1.5.0 in /usr/local/lib/python2.7/dist-packages/numpy-1.9.0-py2.7-linux-x86_64.egg (from theano)\r\n",
        "Requirement already satisfied (use --upgrade to upgrade): scipy>=0.7.2 in /usr/local/lib/python2.7/dist-packages (from theano)\r\n",
        "Installing collected packages: theano\r\n",
        "  Running setup.py install for theano\r\n"
       ]
      },
      {
       "output_type": "stream",
       "stream": "stdout",
       "text": [
        "    changing mode of build/scripts-2.7/theano-cache from 644 to 755\r\n",
        "    changing mode of build/scripts-2.7/theano-nose from 644 to 755\r\n",
        "    changing mode of build/scripts-2.7/theano-test from 644 to 755\r\n"
       ]
      },
      {
       "output_type": "stream",
       "stream": "stdout",
       "text": [
        "    \r\n",
        "    warning: manifest_maker: MANIFEST.in, line 7: 'recursive-include' expects <dir> <pattern1> <pattern2> ...\r\n",
        "    \r\n"
       ]
      },
      {
       "output_type": "stream",
       "stream": "stdout",
       "text": [
        "    changing mode of /usr/local/bin/theano-nose to 755\r\n",
        "    changing mode of /usr/local/bin/theano-cache to 755\r\n",
        "    changing mode of /usr/local/bin/theano-test to 755\r\n",
        "Successfully installed theano\r\n",
        "Cleaning up...\r\n"
       ]
      }
     ],
     "prompt_number": 14
    },
    {
     "cell_type": "heading",
     "level": 1,
     "metadata": {},
     "source": [
      "Using GPU"
     ]
    },
    {
     "cell_type": "markdown",
     "metadata": {},
     "source": [
      "You will need to install CUDA and export the following environment variables before running `ipython notebook`"
     ]
    },
    {
     "cell_type": "markdown",
     "metadata": {},
     "source": [
      "On OSX\n",
      "```bash\n",
      "export DYLD_FALLBACK_LIBRARY_PATH=/Developer/NVIDIA/CUDA-6.5/lib:$DYLD_FALLBACK_LIBRARY_PATH\n",
      "export PATH=/Developer/NVIDIA/CUDA-6.5/bin:$PATH\n",
      "```"
     ]
    },
    {
     "cell_type": "markdown",
     "metadata": {},
     "source": [
      "On AWS\n",
      "```bash\n",
      "export PATH=/usr/local/cuda-6.5/bin/:$PATH\n",
      "```"
     ]
    },
    {
     "cell_type": "markdown",
     "metadata": {},
     "source": [
      "you can control if CPU or GPU is used inside the notebook, however, you can only set it once. You need to restart the notebook if you want to change it"
     ]
    },
    {
     "cell_type": "code",
     "collapsed": false,
     "input": [
      "import os\n",
      "#os.environ['THEANO_FLAGS'] = 'mode=FAST_RUN,device=cpu,floatX=float32'\n",
      "os.environ['THEANO_FLAGS'] = 'mode=FAST_RUN,device=gpu,floatX=float32'"
     ],
     "language": "python",
     "metadata": {},
     "outputs": [],
     "prompt_number": 1
    },
    {
     "cell_type": "markdown",
     "metadata": {},
     "source": [
      "and check if you are using CPU or GPU"
     ]
    },
    {
     "cell_type": "code",
     "collapsed": false,
     "input": [
      "from theano import function, config, shared, sandbox\n",
      "import theano.tensor as T\n",
      "import numpy\n",
      "import time\n",
      "\n",
      "vlen = 10 * 30 * 768  # 10 x #cores x # threads per core\n",
      "iters = 1000\n",
      "\n",
      "rng = numpy.random.RandomState(22)\n",
      "x = shared(numpy.asarray(rng.rand(vlen), config.floatX))\n",
      "f = function([], T.exp(x))\n",
      "print f.maker.fgraph.toposort()\n",
      "t0 = time.time()\n",
      "for i in xrange(iters):\n",
      "    r = f()\n",
      "t1 = time.time()\n",
      "print 'Looping %d times took' % iters, t1 - t0, 'seconds'\n",
      "print 'Result is', r\n",
      "if numpy.any([isinstance(x.op, T.Elemwise) for x in f.maker.fgraph.toposort()]):\n",
      "    print 'Used the cpu'\n",
      "else:\n",
      "    print 'Used the gpu'"
     ],
     "language": "python",
     "metadata": {},
     "outputs": [
      {
       "output_type": "stream",
       "stream": "stdout",
       "text": [
        "[GpuElemwise{exp,no_inplace}(<CudaNdarrayType(float32, vector)>), HostFromGpu(GpuElemwise{exp,no_inplace}.0)]\n",
        "Looping 1000 times took"
       ]
      },
      {
       "output_type": "stream",
       "stream": "stdout",
       "text": [
        " 0.738588094711 seconds\n",
        "Result is [ 1.23178029  1.61879349  1.52278066 ...,  2.20771813  2.29967761\n",
        "  1.62323296]\n",
        "Used the gpu\n"
       ]
      },
      {
       "output_type": "stream",
       "stream": "stderr",
       "text": [
        "Using gpu device 0: GRID K520\n"
       ]
      }
     ],
     "prompt_number": 2
    },
    {
     "cell_type": "markdown",
     "metadata": {},
     "source": [
      "On OSX, for this example, the GPU is x4-x5 faster than CPU"
     ]
    },
    {
     "cell_type": "code",
     "collapsed": false,
     "input": [],
     "language": "python",
     "metadata": {},
     "outputs": []
    }
   ],
   "metadata": {}
  }
 ]
}