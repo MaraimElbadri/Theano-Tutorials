{
 "metadata": {
  "name": "",
  "signature": "sha256:a9995f8de8a5cadbb7f85f9979e6849bb9c8ffecda36e7002b4346a743a4004d"
 },
 "nbformat": 3,
 "nbformat_minor": 0,
 "worksheets": [
  {
   "cells": [
    {
     "cell_type": "markdown",
     "metadata": {},
     "source": [
      "Use 2D convolution - respect the 2D structure of the data by running the same network (same weights) on small 2D patches of the image."
     ]
    },
    {
     "cell_type": "code",
     "collapsed": false,
     "input": [
      "import os,sys,inspect\n",
      "currentdir = os.path.dirname(os.path.abspath(inspect.getfile(inspect.currentframe())))\n",
      "parentdir = os.path.dirname(currentdir)\n",
      "sys.path.insert(0,parentdir) \n",
      "import load\n",
      "import os\n",
      "load.datasets_dir = os.path.expanduser(\"~/Downloads/lisa/data/\")\n",
      "\n",
      "trX, teX, trY, teY = load.mnist(onehot=True)"
     ],
     "language": "python",
     "metadata": {},
     "outputs": [],
     "prompt_number": 1
    },
    {
     "cell_type": "markdown",
     "metadata": {},
     "source": [
      "On OSX this example is really slow and the GPU cause the Mac to shutdown! So run it on AWS with GPU"
     ]
    },
    {
     "cell_type": "code",
     "collapsed": false,
     "input": [
      "os.environ['THEANO_FLAGS'] = 'mode=FAST_RUN,device=gpu,floatX=float32'"
     ],
     "language": "python",
     "metadata": {},
     "outputs": [],
     "prompt_number": 2
    },
    {
     "cell_type": "code",
     "collapsed": false,
     "input": [
      "import theano\n",
      "from theano import tensor as T\n",
      "from theano.sandbox.rng_mrg import MRG_RandomStreams as RandomStreams\n",
      "import numpy as np\n",
      "from theano.tensor.nnet.conv import conv2d\n",
      "from theano.tensor.signal.downsample import max_pool_2d\n",
      "\n",
      "srng = RandomStreams()\n",
      "\n",
      "def floatX(X):\n",
      "    return np.asarray(X, dtype=theano.config.floatX)\n",
      "\n",
      "def init_weights(shape):\n",
      "    return theano.shared(floatX(np.random.randn(*shape) * 0.01))\n",
      "\n",
      "def rectify(X):\n",
      "    return T.maximum(X, 0.)\n",
      "\n",
      "def softmax(X):\n",
      "    e_x = T.exp(X - X.max(axis=1).dimshuffle(0, 'x'))\n",
      "    return e_x / e_x.sum(axis=1).dimshuffle(0, 'x')\n",
      "\n",
      "def dropout(X, p=0.):\n",
      "    if p > 0:\n",
      "        retain_prob = 1 - p\n",
      "        X *= srng.binomial(X.shape, p=retain_prob, dtype=theano.config.floatX, nstreams=60*256)\n",
      "        X /= retain_prob\n",
      "    return X\n",
      "\n",
      "def RMSprop(cost, params, lr=0.001, rho=0.9, epsilon=1e-6):\n",
      "    grads = T.grad(cost=cost, wrt=params)\n",
      "    updates = []\n",
      "    for p, g in zip(params, grads):\n",
      "        acc = theano.shared(p.get_value() * 0.)\n",
      "        acc_new = rho * acc + (1 - rho) * g ** 2\n",
      "        gradient_scaling = T.sqrt(acc_new + epsilon)\n",
      "        g = g / gradient_scaling\n",
      "        updates.append((acc, acc_new))\n",
      "        updates.append((p, p - lr * g))\n",
      "    return updates"
     ],
     "language": "python",
     "metadata": {},
     "outputs": [
      {
       "output_type": "stream",
       "stream": "stderr",
       "text": [
        "Using gpu device 0: GRID K520\n"
       ]
      }
     ],
     "prompt_number": 3
    },
    {
     "cell_type": "markdown",
     "metadata": {},
     "source": [
      "block to compute conv->activate->pool->noise"
     ]
    },
    {
     "cell_type": "code",
     "collapsed": false,
     "input": [
      "def model(X, w, w2, w3, w4, w_o, p_drop_conv, p_drop_hidden):\n",
      "    # block to compute conv->activate->pool->noise\n",
      "    l1a = rectify(conv2d(X, w, border_mode='full'))\n",
      "    l1 = max_pool_2d(l1a, (2, 2))\n",
      "    l1 = dropout(l1, p_drop_conv)\n",
      "\n",
      "    l2a = rectify(conv2d(l1, w2))\n",
      "    l2 = max_pool_2d(l2a, (2, 2))\n",
      "    l2 = dropout(l2, p_drop_conv)\n",
      "\n",
      "    l3a = rectify(conv2d(l2, w3))\n",
      "    l3b = max_pool_2d(l3a, (2, 2))\n",
      "    # return back to original vector represnation\n",
      "    l3 = T.flatten(l3b, outdim=2)\n",
      "    l3 = dropout(l3, p_drop_conv)\n",
      "\n",
      "    l4 = rectify(T.dot(l3, w4))\n",
      "    l4 = dropout(l4, p_drop_hidden)\n",
      "\n",
      "    pyx = softmax(T.dot(l4, w_o))\n",
      "    return l1, l2, l3, l4, pyx"
     ],
     "language": "python",
     "metadata": {},
     "outputs": [],
     "prompt_number": 4
    },
    {
     "cell_type": "markdown",
     "metadata": {},
     "source": [
      "convert data from vector to color images, but we have just one color channel "
     ]
    },
    {
     "cell_type": "code",
     "collapsed": false,
     "input": [
      "trX = trX.reshape(-1, 1, 28, 28)\n",
      "teX = teX.reshape(-1, 1, 28, 28)\n",
      "\n",
      "X = T.ftensor4()\n",
      "Y = T.fmatrix()"
     ],
     "language": "python",
     "metadata": {},
     "outputs": [],
     "prompt_number": 5
    },
    {
     "cell_type": "markdown",
     "metadata": {},
     "source": [
      "covolution weights (n_kernels, n_channels, kernel_w, kernel_h). We will use 3x3 kernel. Smallest possible. Instead of bigger kernels use more layers. It looks as if each convolution layer is twice as big as the previous one, but keep in mind that we perform maxpool which will reduce the dimension by factor of two"
     ]
    },
    {
     "cell_type": "code",
     "collapsed": false,
     "input": [
      "w = init_weights((32, 1, 3, 3))\n",
      "w2 = init_weights((64, 32, 3, 3))\n",
      "w3 = init_weights((128, 64, 3, 3))"
     ],
     "language": "python",
     "metadata": {},
     "outputs": [],
     "prompt_number": 6
    },
    {
     "cell_type": "markdown",
     "metadata": {},
     "source": [
      "last layer is flat but its input size must match the size of the previous convolution layer"
     ]
    },
    {
     "cell_type": "code",
     "collapsed": false,
     "input": [
      "w4 = init_weights((128 * 3 * 3, 625))\n",
      "w_o = init_weights((625, 10))"
     ],
     "language": "python",
     "metadata": {},
     "outputs": [],
     "prompt_number": 7
    },
    {
     "cell_type": "markdown",
     "metadata": {},
     "source": [
      "noise during training"
     ]
    },
    {
     "cell_type": "code",
     "collapsed": false,
     "input": [
      "noise_l1, noise_l2, noise_l3, noise_l4, noise_py_x = model(X, w, w2, w3, w4, w_o, 0.2, 0.5)"
     ],
     "language": "python",
     "metadata": {},
     "outputs": [],
     "prompt_number": 8
    },
    {
     "cell_type": "markdown",
     "metadata": {},
     "source": [
      "noiseless model for testing"
     ]
    },
    {
     "cell_type": "code",
     "collapsed": false,
     "input": [
      "l1, l2, l3, l4, py_x = model(X, w, w2, w3, w4, w_o, 0., 0.)\n",
      "y_x = T.argmax(py_x, axis=1)\n",
      "\n",
      "\n",
      "cost = T.mean(T.nnet.categorical_crossentropy(noise_py_x, Y))\n",
      "params = [w, w2, w3, w4, w_o]\n",
      "updates = RMSprop(cost, params, lr=0.001)\n",
      "\n",
      "train = theano.function(inputs=[X, Y], outputs=cost, updates=updates, allow_input_downcast=True)\n",
      "predict = theano.function(inputs=[X], outputs=y_x, allow_input_downcast=True)"
     ],
     "language": "python",
     "metadata": {},
     "outputs": [
      {
       "output_type": "stream",
       "stream": "stderr",
       "text": [
        "/usr/local/lib/python2.7/dist-packages/theano/tensor/subtensor.py:110: FutureWarning: comparison to `None` will result in an elementwise object comparison in the future.\n",
        "  start in [None, 0] or\n",
        "/usr/local/lib/python2.7/dist-packages/theano/tensor/subtensor.py:114: FutureWarning: comparison to `None` will result in an elementwise object comparison in the future.\n",
        "  stop in [None, length, maxsize] or\n"
       ]
      }
     ],
     "prompt_number": 9
    },
    {
     "cell_type": "code",
     "collapsed": false,
     "input": [
      "%%time\n",
      "for i in range(100):\n",
      "    for start, end in zip(range(0, len(trX), 128), range(128, len(trX), 128)):\n",
      "        cost = train(trX[start:end], trY[start:end])\n",
      "        #print '%d:%.4f'%(start/128,cost),\n",
      "    #print\n",
      "    # prediction is also done in minibatches because the entire test data does not fit the Mac GPU :-(\n",
      "    errs = []\n",
      "    for start, end in zip(range(0, len(teX), 128), range(128, len(teX), 128)):\n",
      "        errs.append(np.argmax(teY[start:end], axis=1) == predict(teX[start:end]))\n",
      "    print '###',i, np.mean(np.concatenate(errs))"
     ],
     "language": "python",
     "metadata": {},
     "outputs": []
    },
    {
     "cell_type": "code",
     "collapsed": false,
     "input": [],
     "language": "python",
     "metadata": {},
     "outputs": []
    }
   ],
   "metadata": {}
  }
 ]
}