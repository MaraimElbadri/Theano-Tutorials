{
 "metadata": {
  "name": "",
  "signature": "sha256:f13eb3b414e3e34aa7531d120d38fcd6602672de65630585a7952395a63c3f7e"
 },
 "nbformat": 3,
 "nbformat_minor": 0,
 "worksheets": [
  {
   "cells": [
    {
     "cell_type": "markdown",
     "metadata": {},
     "source": [
      "import Theano"
     ]
    },
    {
     "cell_type": "markdown",
     "metadata": {},
     "source": [
      "tensor is the section of theano that deals with data (like numpy)"
     ]
    },
    {
     "cell_type": "code",
     "collapsed": false,
     "input": [
      "import theano\n",
      "from theano import tensor as T"
     ],
     "language": "python",
     "metadata": {},
     "outputs": [],
     "prompt_number": 1
    },
    {
     "cell_type": "markdown",
     "metadata": {},
     "source": [
      "create Theano symbolic variables"
     ]
    },
    {
     "cell_type": "code",
     "collapsed": false,
     "input": [
      "a = T.scalar()\n",
      "b = T.scalar()"
     ],
     "language": "python",
     "metadata": {},
     "outputs": [],
     "prompt_number": 2
    },
    {
     "cell_type": "markdown",
     "metadata": {},
     "source": [
      "our model"
     ]
    },
    {
     "cell_type": "code",
     "collapsed": false,
     "input": [
      "y = a * b"
     ],
     "language": "python",
     "metadata": {},
     "outputs": [],
     "prompt_number": 3
    },
    {
     "cell_type": "markdown",
     "metadata": {},
     "source": [
      "compile to a python function (to CPU or GPU depending on configuration)"
     ]
    },
    {
     "cell_type": "code",
     "collapsed": false,
     "input": [
      "multiply = theano.function(inputs=[a, b], outputs=y)"
     ],
     "language": "python",
     "metadata": {},
     "outputs": [],
     "prompt_number": 4
    },
    {
     "cell_type": "markdown",
     "metadata": {},
     "source": [
      "and use the function"
     ]
    },
    {
     "cell_type": "code",
     "collapsed": false,
     "input": [
      "multiply(1, 2)"
     ],
     "language": "python",
     "metadata": {},
     "outputs": [
      {
       "metadata": {},
       "output_type": "pyout",
       "prompt_number": 5,
       "text": [
        "array(2.0)"
       ]
      }
     ],
     "prompt_number": 5
    },
    {
     "cell_type": "code",
     "collapsed": false,
     "input": [
      "multiply(3, 3)"
     ],
     "language": "python",
     "metadata": {},
     "outputs": [
      {
       "metadata": {},
       "output_type": "pyout",
       "prompt_number": 6,
       "text": [
        "array(9.0)"
       ]
      }
     ],
     "prompt_number": 6
    }
   ],
   "metadata": {}
  }
 ]
}