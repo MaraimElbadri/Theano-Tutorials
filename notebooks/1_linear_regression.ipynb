{
 "metadata": {
  "name": "",
  "signature": "sha256:65a56707d32e8e45ec327145d45b5a9a273bc13b6c18fc9b7e7bf8c84fdf53ba"
 },
 "nbformat": 3,
 "nbformat_minor": 0,
 "worksheets": [
  {
   "cells": [
    {
     "cell_type": "markdown",
     "metadata": {},
     "source": [
      "imports"
     ]
    },
    {
     "cell_type": "code",
     "collapsed": false,
     "input": [
      "import theano\n",
      "from theano import tensor as T\n",
      "import numpy as np"
     ],
     "language": "python",
     "metadata": {},
     "outputs": [],
     "prompt_number": 2
    },
    {
     "cell_type": "markdown",
     "metadata": {},
     "source": [
      "generate data with noise"
     ]
    },
    {
     "cell_type": "code",
     "collapsed": false,
     "input": [
      "trX = np.linspace(-1, 1, 101)\n",
      "trY = 2 * trX + np.random.randn(*trX.shape) * 0.33"
     ],
     "language": "python",
     "metadata": {},
     "outputs": [],
     "prompt_number": 3
    },
    {
     "cell_type": "markdown",
     "metadata": {},
     "source": [
      "symbolic vriable initalization"
     ]
    },
    {
     "cell_type": "code",
     "collapsed": false,
     "input": [
      "X = T.scalar()\n",
      "Y = T.scalar()"
     ],
     "language": "python",
     "metadata": {},
     "outputs": [],
     "prompt_number": 4
    },
    {
     "cell_type": "markdown",
     "metadata": {},
     "source": [
      "our model"
     ]
    },
    {
     "cell_type": "code",
     "collapsed": false,
     "input": [
      "def model(X, w):\n",
      "    return X * w"
     ],
     "language": "python",
     "metadata": {},
     "outputs": [],
     "prompt_number": 5
    },
    {
     "cell_type": "markdown",
     "metadata": {},
     "source": [
      "model parameter initalization. hyper variables, with real value"
     ]
    },
    {
     "cell_type": "code",
     "collapsed": false,
     "input": [
      "w = theano.shared(np.asarray(0., dtype=theano.config.floatX))"
     ],
     "language": "python",
     "metadata": {},
     "outputs": [],
     "prompt_number": 6
    },
    {
     "cell_type": "code",
     "collapsed": false,
     "input": [
      "y = model(X, w)"
     ],
     "language": "python",
     "metadata": {},
     "outputs": [],
     "prompt_number": 7
    },
    {
     "cell_type": "markdown",
     "metadata": {},
     "source": [
      "metric to be optimized by model"
     ]
    },
    {
     "cell_type": "code",
     "collapsed": false,
     "input": [
      "cost = T.mean(T.sqr(y - Y))"
     ],
     "language": "python",
     "metadata": {},
     "outputs": [],
     "prompt_number": 8
    },
    {
     "cell_type": "markdown",
     "metadata": {},
     "source": [
      "learning signal for parameters. Computes the gradient symbolically"
     ]
    },
    {
     "cell_type": "code",
     "collapsed": false,
     "input": [
      "gradient = T.grad(cost=cost, wrt=w)"
     ],
     "language": "python",
     "metadata": {},
     "outputs": [],
     "prompt_number": 9
    },
    {
     "cell_type": "markdown",
     "metadata": {},
     "source": [
      "how to update in each step. 0.01 is the learning rate"
     ]
    },
    {
     "cell_type": "code",
     "collapsed": false,
     "input": [
      "updates = [[w, w - gradient * 0.01]]"
     ],
     "language": "python",
     "metadata": {},
     "outputs": [],
     "prompt_number": 10
    },
    {
     "cell_type": "markdown",
     "metadata": {},
     "source": [
      "compile to a python function. `allow_input_downcast=True` is set to ignore typing issue with Theano on different platforms (GPU handle only 32bit)"
     ]
    },
    {
     "cell_type": "code",
     "collapsed": false,
     "input": [
      "train = theano.function(inputs=[X, Y], outputs=cost, updates=updates, allow_input_downcast=True)"
     ],
     "language": "python",
     "metadata": {},
     "outputs": [],
     "prompt_number": 11
    },
    {
     "cell_type": "markdown",
     "metadata": {},
     "source": [
      "iterate 100 times over the entire data (epoch.) In each epoch iterate over all the data samples"
     ]
    },
    {
     "cell_type": "code",
     "collapsed": false,
     "input": [
      "for i in range(100):\n",
      "    for x, y in zip(trX, trY):\n",
      "        train(x, y)"
     ],
     "language": "python",
     "metadata": {},
     "outputs": [],
     "prompt_number": 12
    },
    {
     "cell_type": "markdown",
     "metadata": {},
     "source": [
      "we should get something close to the true weight of the data: 2"
     ]
    },
    {
     "cell_type": "code",
     "collapsed": false,
     "input": [
      "w.get_value()"
     ],
     "language": "python",
     "metadata": {},
     "outputs": [
      {
       "metadata": {},
       "output_type": "pyout",
       "prompt_number": 13,
       "text": [
        "array(1.9382810308787022)"
       ]
      }
     ],
     "prompt_number": 13
    }
   ],
   "metadata": {}
  }
 ]
}